{
 "cells": [
  {
   "cell_type": "code",
   "execution_count": 4,
   "metadata": {},
   "outputs": [
    {
     "name": "stdout",
     "output_type": "stream",
     "text": [
      "Moving average of [3, 5, 7, 2, 8, 10, 11, 65, 72, 81, 99, 100, 150] are:\n",
      "\n",
      "Output:\n",
      " [  5.           4.66666667   5.66666667   6.66666667   9.66666667\n",
      "  28.66666667  49.33333333  72.66666667  84.          93.33333333\n",
      " 116.33333333]\n"
     ]
    }
   ],
   "source": [
    "import numpy as np\n",
    "def moving_average(a,k):#a is the input array and k is the window#\n",
    "    temp=np.cumsum(a,dtype=float)\n",
    "    temp[3:]=temp[3:]-temp[:-3]\n",
    "    return temp[3-1:]/3\n",
    "\n",
    "lst=[3,5,7,2,8,10,11,65,72,81,99,100,150]#input#\n",
    "a = np.array(lst)\n",
    "\n",
    "op_array = moving_average(a,k=3)#output#\n",
    "print(\"Moving average of\",lst,\"are:\\n\")\n",
    "print(\"Output:\\n\",op_array)\n",
    "\n"
   ]
  },
  {
   "cell_type": "code",
   "execution_count": null,
   "metadata": {},
   "outputs": [],
   "source": []
  },
  {
   "cell_type": "code",
   "execution_count": null,
   "metadata": {},
   "outputs": [],
   "source": []
  }
 ],
 "metadata": {
  "kernelspec": {
   "display_name": "Python 3",
   "language": "python",
   "name": "python3"
  },
  "language_info": {
   "codemirror_mode": {
    "name": "ipython",
    "version": 3
   },
   "file_extension": ".py",
   "mimetype": "text/x-python",
   "name": "python",
   "nbconvert_exporter": "python",
   "pygments_lexer": "ipython3",
   "version": "3.6.5"
  }
 },
 "nbformat": 4,
 "nbformat_minor": 2
}
